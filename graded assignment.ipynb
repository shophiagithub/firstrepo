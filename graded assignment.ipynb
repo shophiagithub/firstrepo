{
  "metadata": {
    "kernelspec": {
      "name": "python",
      "display_name": "Pyolite",
      "language": "python"
    },
    "language_info": {
      "codemirror_mode": {
        "name": "python",
        "version": 3
      },
      "file_extension": ".py",
      "mimetype": "text/x-python",
      "name": "python",
      "nbconvert_exporter": "python",
      "pygments_lexer": "ipython3",
      "version": "3.8"
    }
  },
  "nbformat_minor": 4,
  "nbformat": 4,
  "cells": [
    {
      "cell_type": "markdown",
      "source": "<center>\n    <img src=\"https://s3-api.us-geo.objectstorage.softlayer.net/cf-courses-data/CognitiveClass/Logos/organization_logo/organization_logo.png\" width=\"300\" alt=\"cognitiveclass.ai logo\"  />\n</center>\n",
      "metadata": {}
    },
    {
      "cell_type": "markdown",
      "source": "## my jupyter notebook on IBM watson studio \n",
      "metadata": {}
    },
    {
      "cell_type": "markdown",
      "source": "#### Add your code below following the instructions given in the course\n",
      "metadata": {
        "tags": []
      }
    },
    {
      "cell_type": "markdown",
      "source": "## shophia.A\nAm a student my desired occupation is to become a data scientist",
      "metadata": {}
    },
    {
      "cell_type": "markdown",
      "source": "*I am interested in data science because i like that field of domain and i like to get various insights from data*",
      "metadata": {}
    },
    {
      "cell_type": "markdown",
      "source": "### my code below in cell 5 is going to do ARITHMETIC OPERATIONS",
      "metadata": {}
    },
    {
      "cell_type": "code",
      "source": "x=2+2\nprint(x)",
      "metadata": {
        "trusted": true
      },
      "execution_count": 2,
      "outputs": [
        {
          "name": "stdout",
          "text": "4\n",
          "output_type": "stream"
        }
      ]
    },
    {
      "cell_type": "markdown",
      "source": "## html tables\n|header|header|\n|------|------|\n|cell|cell|",
      "metadata": {}
    },
    {
      "cell_type": "markdown",
      "source": "## bulleted list\n- name\n- register number\n- roll no",
      "metadata": {}
    },
    {
      "cell_type": "markdown",
      "source": "## numbered list\n1. name\n1. number\n",
      "metadata": {}
    }
  ]
}